{
 "cells": [
  {
   "cell_type": "code",
   "execution_count": 2,
   "metadata": {},
   "outputs": [],
   "source": [
    "from sklearn.datasets import fetch_mldata\n",
    "mnist = fetch_mldata('MNIST original')\n",
    "X = mnist['data']\n",
    "y = mnist['target']"
   ]
  },
  {
   "cell_type": "code",
   "execution_count": 5,
   "metadata": {},
   "outputs": [
    {
     "data": {
      "text/plain": [
       "Text(0.5,1,'9.0')"
      ]
     },
     "execution_count": 5,
     "metadata": {},
     "output_type": "execute_result"
    },
    {
     "data": {
      "image/png": "[encoded data removed]",
      "text/plain": [
       "<Figure size 432x288 with 4 Axes>"
      ]
     },
     "metadata": {
      "needs_background": "light"
     },
     "output_type": "display_data"
    }
   ],
   "source": [
    "import matplotlib\n",
    "import matplotlib.pyplot as plt\n",
    "f, axarr = plt.subplots(2, 2)\n",
    "\n",
    "index1 = 0\n",
    "index2 = 11210\n",
    "index3 = 54321\n",
    "index4 = 69000\n",
    "\n",
    "some_digit1 = X[index1].reshape(28, 28)\n",
    "some_digit2 = X[index2].reshape(28, 28)\n",
    "some_digit3 = X[index3].reshape(28, 28)\n",
    "some_digit4 = X[index4].reshape(28, 28)\n",
    "\n",
    "axarr[0, 0].imshow(some_digit1 , cmap = matplotlib.cm.binary)\n",
    "axarr[0, 0].axis('off');\n",
    "axarr[0, 0].set_title(y[index1])\n",
    "\n",
    "axarr[0, 1].imshow(some_digit2 , cmap = matplotlib.cm.binary)\n",
    "axarr[0, 1].axis('off');\n",
    "axarr[0, 1].set_title(y[index2])\n",
    "\n",
    "axarr[1, 0].imshow(some_digit3 , cmap = matplotlib.cm.binary)\n",
    "axarr[1, 0].axis('off');\n",
    "axarr[1, 0].set_title(y[index3])\n",
    "\n",
    "axarr[1, 1].imshow(some_digit4 , cmap = matplotlib.cm.binary)\n",
    "axarr[1, 1].axis('off');\n",
    "axarr[1, 1].set_title(y[index4])"
   ]
  },
  {
   "cell_type": "code",
   "execution_count": 6,
   "metadata": {},
   "outputs": [],
   "source": [
    "X_train, X_test, y_train, y_test = X[:60000], X[60000:], y[:60000],y[60000:]"
   ]
  },
  {
   "cell_type": "code",
   "execution_count": 7,
   "metadata": {},
   "outputs": [],
   "source": [
    "import numpy as np\n",
    "shuffle_index =  np.random.permutation(60000)\n",
    "X_train = X_train[shuffle_index]\n",
    "y_train = y_train[shuffle_index]"
   ]
  },
  {
   "cell_type": "code",
   "execution_count": 8,
   "metadata": {},
   "outputs": [
    {
     "name": "stderr",
     "output_type": "stream",
     "text": [
      "C:\\Users\\menti\\OneDrive - Sheffield Hallam University\\WPy-3662\\python-3.6.6.amd64\\lib\\site-packages\\sklearn\\linear_model\\stochastic_gradient.py:128: FutureWarning: max_iter and tol parameters have been added in <class 'sklearn.linear_model.stochastic_gradient.SGDClassifier'> in 0.19. If both are left unset, they default to max_iter=5 and tol=None. If tol is not None, max_iter defaults to max_iter=1000. From 0.21, default max_iter will be 1000, and default tol will be 1e-3.\n",
      "  \"and default tol will be 1e-3.\" % type(self), FutureWarning)\n"
     ]
    },
    {
     "data": {
      "text/plain": [
       "SGDClassifier(alpha=0.0001, average=False, class_weight=None, epsilon=0.1,\n",
       "       eta0=0.0, fit_intercept=True, l1_ratio=0.15,\n",
       "       learning_rate='optimal', loss='hinge', max_iter=None, n_iter=None,\n",
       "       n_jobs=1, penalty='l2', power_t=0.5, random_state=42, shuffle=True,\n",
       "       tol=None, verbose=0, warm_start=False)"
      ]
     },
     "execution_count": 8,
     "metadata": {},
     "output_type": "execute_result"
    }
   ],
   "source": [
    "from sklearn.linear_model import SGDClassifier\n",
    "classifier  = SGDClassifier(random_state=42)\n",
    "classifier.fit(X_train,y_train)"
   ]
  },
  {
   "cell_type": "code",
   "execution_count": 10,
   "metadata": {},
   "outputs": [
    {
     "name": "stdout",
     "output_type": "stream",
     "text": [
      "the value is [9.]\n"
     ]
    },
    {
     "data": {
      "image/png": "[encoded data removed]",
      "text/plain": [
       "<Figure size 432x288 with 1 Axes>"
      ]
     },
     "metadata": {
      "needs_background": "light"
     },
     "output_type": "display_data"
    }
   ],
   "source": [
    "some_index = 56783\n",
    "\n",
    "plt.title('the input image')\n",
    "plt.imshow(X[some_index].reshape(28,28),cmap = matplotlib.cm.binary)\n",
    "#plt.axis('off')\n",
    "\n",
    "print('the value is', classifier.predict([X[some_index]]))\n"
   ]
  },
  {
   "cell_type": "code",
   "execution_count": 11,
   "metadata": {},
   "outputs": [
    {
     "name": "stderr",
     "output_type": "stream",
     "text": [
      "C:\\Users\\menti\\OneDrive - Sheffield Hallam University\\WPy-3662\\python-3.6.6.amd64\\lib\\site-packages\\sklearn\\linear_model\\stochastic_gradient.py:128: FutureWarning: max_iter and tol parameters have been added in <class 'sklearn.linear_model.stochastic_gradient.SGDClassifier'> in 0.19. If both are left unset, they default to max_iter=5 and tol=None. If tol is not None, max_iter defaults to max_iter=1000. From 0.21, default max_iter will be 1000, and default tol will be 1e-3.\n",
      "  \"and default tol will be 1e-3.\" % type(self), FutureWarning)\n",
      "C:\\Users\\menti\\OneDrive - Sheffield Hallam University\\WPy-3662\\python-3.6.6.amd64\\lib\\site-packages\\sklearn\\linear_model\\stochastic_gradient.py:128: FutureWarning: max_iter and tol parameters have been added in <class 'sklearn.linear_model.stochastic_gradient.SGDClassifier'> in 0.19. If both are left unset, they default to max_iter=5 and tol=None. If tol is not None, max_iter defaults to max_iter=1000. From 0.21, default max_iter will be 1000, and default tol will be 1e-3.\n",
      "  \"and default tol will be 1e-3.\" % type(self), FutureWarning)\n",
      "C:\\Users\\menti\\OneDrive - Sheffield Hallam University\\WPy-3662\\python-3.6.6.amd64\\lib\\site-packages\\sklearn\\linear_model\\stochastic_gradient.py:128: FutureWarning: max_iter and tol parameters have been added in <class 'sklearn.linear_model.stochastic_gradient.SGDClassifier'> in 0.19. If both are left unset, they default to max_iter=5 and tol=None. If tol is not None, max_iter defaults to max_iter=1000. From 0.21, default max_iter will be 1000, and default tol will be 1e-3.\n",
      "  \"and default tol will be 1e-3.\" % type(self), FutureWarning)\n",
      "C:\\Users\\menti\\OneDrive - Sheffield Hallam University\\WPy-3662\\python-3.6.6.amd64\\lib\\site-packages\\sklearn\\linear_model\\stochastic_gradient.py:128: FutureWarning: max_iter and tol parameters have been added in <class 'sklearn.linear_model.stochastic_gradient.SGDClassifier'> in 0.19. If both are left unset, they default to max_iter=5 and tol=None. If tol is not None, max_iter defaults to max_iter=1000. From 0.21, default max_iter will be 1000, and default tol will be 1e-3.\n",
      "  \"and default tol will be 1e-3.\" % type(self), FutureWarning)\n"
     ]
    },
    {
     "data": {
      "text/plain": [
       "<matplotlib.image.AxesImage at 0x16c83185160>"
      ]
     },
     "execution_count": 11,
     "metadata": {},
     "output_type": "execute_result"
    },
    {
     "data": {
      "image/png": "[encoded data removed]",
      "text/plain": [
       "<Figure size 288x288 with 1 Axes>"
      ]
     },
     "metadata": {
      "needs_background": "light"
     },
     "output_type": "display_data"
    }
   ],
   "source": [
    "from sklearn.model_selection import cross_val_predict\n",
    "from sklearn.metrics import confusion_matrix\n",
    "y_train_pred = cross_val_predict(classifier, X_train, y_train, cv=4)\n",
    "conf_mx = confusion_matrix(y_train, y_train_pred)\n",
    "plt.matshow(conf_mx)"
   ]
  },
  {
   "cell_type": "code",
   "execution_count": 12,
   "metadata": {
    "scrolled": false
   },
   "outputs": [],
   "source": [
    "import cv2\n",
    "import numpy as np\n",
    "\n",
    "cap = cv2.VideoCapture(2)\n",
    "se2 = cv2.getStructuringElement(cv2.MORPH_RECT, (3,3))\n",
    "\n",
    "#Adjust the input to make it similar to the mnist samples \n",
    "def adjust(image):\n",
    "    # build a lookup table\n",
    "    T=100;#Threshold\n",
    "    table = np.arange(0,256)\n",
    "    for i in table:\n",
    "        if (i>T):\n",
    "            table[i]=0\n",
    "        else:\n",
    "            table[i]=-255*i*i/(T*T)+255                         \n",
    "    table = table.astype(\"uint8\") \n",
    "    # apply gamma correction using the lookup table\n",
    "    return cv2.LUT(image, table)\n",
    "\n",
    "while(cv2.waitKey(1) & 0xFF != ord('q')):\n",
    "    rec, frame = cap.read()\n",
    "    frame = cv2.resize(frame,(800,600))\n",
    "    gray_frame = cv2.cvtColor(frame, cv2.COLOR_BGR2GRAY)\n",
    "    img = cv2.medianBlur(gray_frame,5)\n",
    "    th = cv2.adaptiveThreshold(img,255,cv2.ADAPTIVE_THRESH_MEAN_C,cv2.THRESH_BINARY_INV,11,2)\n",
    "    #ret,th =  cv2.threshold(img,0,255,cv2.THRESH_BINARY+cv2.THRESH_OTSU)\n",
    "    #mask = cv2.morphologyEx(th, cv2.MORPH_CLOSE, se1)\n",
    "    mask = cv2.morphologyEx(th, cv2.MORPH_OPEN, se2)\n",
    "    image, contours, hier = cv2.findContours(mask, cv2.RETR_EXTERNAL, cv2.CHAIN_APPROX_TC89_L1)\n",
    "        \n",
    "   # with each contour, draw boundingRect in grey. To speed up. Only draw object if we have less than 100 objects. \n",
    "    if (len(contours)<=100):\n",
    "        for c in contours:\n",
    "            # get the bounding rect\n",
    "            x, y, w, h = cv2.boundingRect(c)\n",
    "            #Only draw object larger than 500 pixels\n",
    "            if (w*h>=500):\n",
    "                center_x = int(x+w/2)\n",
    "                center_y = int(y+h/2)\n",
    "                edge = int((w if h < w else h)*1.5) #using longer \n",
    "                new_x = int(center_x - edge/2)\n",
    "                new_y = int(center_y - edge/2)\n",
    "                # draw a green rectangle to visualize the bounding rect\n",
    "                cv2.rectangle(frame, (new_x, new_y), (new_x+edge, new_y+edge), (100, 100, 100), 1)\n",
    "                crop_img = gray_frame[new_y:new_y+edge,new_x:new_x+edge] \n",
    "                #Above operation can make one of dimension become 0\n",
    "                if (crop_img.shape[0]!=0 and crop_img.shape[1]!=0):\n",
    "                    sample = adjust(crop_img);\n",
    "                    #cv2.imshow(\"crop_img\",sample)\n",
    "                    pred_sample =cv2.resize(sample,(28,28))\n",
    "                    predction = classifier.predict(pred_sample.reshape(1,28*28))                    \n",
    "                    cv2.putText(frame, np.array2string(predction),(new_x,new_y),cv2.FONT_HERSHEY_SIMPLEX,1,(255,255,0),2)\n",
    "                    \n",
    "    cv2.imshow(\"bw\", mask)\n",
    "    cv2.imshow(\"contours\", frame)  \n",
    "        \n",
    "cap.release()\n",
    "cv2.destroyAllWindows()\n",
    "    "
   ]
  }
 ],
 "metadata": {
  "kernelspec": {
   "display_name": "Python 3",
   "language": "python",
   "name": "python3"
  },
  "language_info": {
   "codemirror_mode": {
    "name": "ipython",
    "version": 3
   },
   "file_extension": ".py",
   "mimetype": "text/x-python",
   "name": "python",
   "nbconvert_exporter": "python",
   "pygments_lexer": "ipython3",
   "version": "3.6.6"
  }
 },
 "nbformat": 4,
 "nbformat_minor": 2
}
